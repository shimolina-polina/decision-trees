{
 "cells": [
  {
   "cell_type": "code",
   "execution_count": 3,
   "id": "68df697e",
   "metadata": {},
   "outputs": [],
   "source": [
    "import pandas as pd\n",
    "import numpy as np\n",
    "import plotly.express as px\n",
    "import seaborn as sns\n",
    "import matplotlib.pyplot as plt"
   ]
  },
  {
   "cell_type": "code",
   "execution_count": 4,
   "id": "93d2e2a7",
   "metadata": {},
   "outputs": [],
   "source": [
    "df = pd.read_csv(\"Life Expectancy Data.csv\")"
   ]
  },
  {
   "cell_type": "code",
   "execution_count": 5,
   "id": "b6819694",
   "metadata": {},
   "outputs": [
    {
     "data": {
      "text/html": [
       "<div>\n",
       "<style scoped>\n",
       "    .dataframe tbody tr th:only-of-type {\n",
       "        vertical-align: middle;\n",
       "    }\n",
       "\n",
       "    .dataframe tbody tr th {\n",
       "        vertical-align: top;\n",
       "    }\n",
       "\n",
       "    .dataframe thead th {\n",
       "        text-align: right;\n",
       "    }\n",
       "</style>\n",
       "<table border=\"1\" class=\"dataframe\">\n",
       "  <thead>\n",
       "    <tr style=\"text-align: right;\">\n",
       "      <th></th>\n",
       "      <th>Country</th>\n",
       "      <th>Year</th>\n",
       "      <th>Status</th>\n",
       "      <th>Life expectancy</th>\n",
       "      <th>Adult Mortality</th>\n",
       "      <th>infant deaths</th>\n",
       "      <th>Alcohol</th>\n",
       "      <th>percentage expenditure</th>\n",
       "      <th>Hepatitis B</th>\n",
       "      <th>Measles</th>\n",
       "      <th>...</th>\n",
       "      <th>Polio</th>\n",
       "      <th>Total expenditure</th>\n",
       "      <th>Diphtheria</th>\n",
       "      <th>HIV/AIDS</th>\n",
       "      <th>GDP</th>\n",
       "      <th>Population</th>\n",
       "      <th>thinness  1-19 years</th>\n",
       "      <th>thinness 5-9 years</th>\n",
       "      <th>Income composition of resources</th>\n",
       "      <th>Schooling</th>\n",
       "    </tr>\n",
       "  </thead>\n",
       "  <tbody>\n",
       "    <tr>\n",
       "      <th>0</th>\n",
       "      <td>Afghanistan</td>\n",
       "      <td>2015</td>\n",
       "      <td>Developing</td>\n",
       "      <td>65.0</td>\n",
       "      <td>263.0</td>\n",
       "      <td>62</td>\n",
       "      <td>0.01</td>\n",
       "      <td>71.279624</td>\n",
       "      <td>65.0</td>\n",
       "      <td>1154</td>\n",
       "      <td>...</td>\n",
       "      <td>6.0</td>\n",
       "      <td>8.16</td>\n",
       "      <td>65.0</td>\n",
       "      <td>0.1</td>\n",
       "      <td>584.259210</td>\n",
       "      <td>33736494.0</td>\n",
       "      <td>17.2</td>\n",
       "      <td>17.3</td>\n",
       "      <td>0.479</td>\n",
       "      <td>10.1</td>\n",
       "    </tr>\n",
       "    <tr>\n",
       "      <th>1</th>\n",
       "      <td>Afghanistan</td>\n",
       "      <td>2014</td>\n",
       "      <td>Developing</td>\n",
       "      <td>59.9</td>\n",
       "      <td>271.0</td>\n",
       "      <td>64</td>\n",
       "      <td>0.01</td>\n",
       "      <td>73.523582</td>\n",
       "      <td>62.0</td>\n",
       "      <td>492</td>\n",
       "      <td>...</td>\n",
       "      <td>58.0</td>\n",
       "      <td>8.18</td>\n",
       "      <td>62.0</td>\n",
       "      <td>0.1</td>\n",
       "      <td>612.696514</td>\n",
       "      <td>327582.0</td>\n",
       "      <td>17.5</td>\n",
       "      <td>17.5</td>\n",
       "      <td>0.476</td>\n",
       "      <td>10.0</td>\n",
       "    </tr>\n",
       "    <tr>\n",
       "      <th>2</th>\n",
       "      <td>Afghanistan</td>\n",
       "      <td>2013</td>\n",
       "      <td>Developing</td>\n",
       "      <td>59.9</td>\n",
       "      <td>268.0</td>\n",
       "      <td>66</td>\n",
       "      <td>0.01</td>\n",
       "      <td>73.219243</td>\n",
       "      <td>64.0</td>\n",
       "      <td>430</td>\n",
       "      <td>...</td>\n",
       "      <td>62.0</td>\n",
       "      <td>8.13</td>\n",
       "      <td>64.0</td>\n",
       "      <td>0.1</td>\n",
       "      <td>631.744976</td>\n",
       "      <td>31731688.0</td>\n",
       "      <td>17.7</td>\n",
       "      <td>17.7</td>\n",
       "      <td>0.470</td>\n",
       "      <td>9.9</td>\n",
       "    </tr>\n",
       "    <tr>\n",
       "      <th>3</th>\n",
       "      <td>Afghanistan</td>\n",
       "      <td>2012</td>\n",
       "      <td>Developing</td>\n",
       "      <td>59.5</td>\n",
       "      <td>272.0</td>\n",
       "      <td>69</td>\n",
       "      <td>0.01</td>\n",
       "      <td>78.184215</td>\n",
       "      <td>67.0</td>\n",
       "      <td>2787</td>\n",
       "      <td>...</td>\n",
       "      <td>67.0</td>\n",
       "      <td>8.52</td>\n",
       "      <td>67.0</td>\n",
       "      <td>0.1</td>\n",
       "      <td>669.959000</td>\n",
       "      <td>3696958.0</td>\n",
       "      <td>17.9</td>\n",
       "      <td>18.0</td>\n",
       "      <td>0.463</td>\n",
       "      <td>9.8</td>\n",
       "    </tr>\n",
       "    <tr>\n",
       "      <th>4</th>\n",
       "      <td>Afghanistan</td>\n",
       "      <td>2011</td>\n",
       "      <td>Developing</td>\n",
       "      <td>59.2</td>\n",
       "      <td>275.0</td>\n",
       "      <td>71</td>\n",
       "      <td>0.01</td>\n",
       "      <td>7.097109</td>\n",
       "      <td>68.0</td>\n",
       "      <td>3013</td>\n",
       "      <td>...</td>\n",
       "      <td>68.0</td>\n",
       "      <td>7.87</td>\n",
       "      <td>68.0</td>\n",
       "      <td>0.1</td>\n",
       "      <td>63.537231</td>\n",
       "      <td>2978599.0</td>\n",
       "      <td>18.2</td>\n",
       "      <td>18.2</td>\n",
       "      <td>0.454</td>\n",
       "      <td>9.5</td>\n",
       "    </tr>\n",
       "  </tbody>\n",
       "</table>\n",
       "<p>5 rows × 22 columns</p>\n",
       "</div>"
      ],
      "text/plain": [
       "       Country  Year      Status  Life expectancy   Adult Mortality  \\\n",
       "0  Afghanistan  2015  Developing              65.0            263.0   \n",
       "1  Afghanistan  2014  Developing              59.9            271.0   \n",
       "2  Afghanistan  2013  Developing              59.9            268.0   \n",
       "3  Afghanistan  2012  Developing              59.5            272.0   \n",
       "4  Afghanistan  2011  Developing              59.2            275.0   \n",
       "\n",
       "   infant deaths  Alcohol  percentage expenditure  Hepatitis B  Measles   ...  \\\n",
       "0             62     0.01               71.279624         65.0      1154  ...   \n",
       "1             64     0.01               73.523582         62.0       492  ...   \n",
       "2             66     0.01               73.219243         64.0       430  ...   \n",
       "3             69     0.01               78.184215         67.0      2787  ...   \n",
       "4             71     0.01                7.097109         68.0      3013  ...   \n",
       "\n",
       "   Polio  Total expenditure  Diphtheria    HIV/AIDS         GDP  Population  \\\n",
       "0    6.0               8.16         65.0        0.1  584.259210  33736494.0   \n",
       "1   58.0               8.18         62.0        0.1  612.696514    327582.0   \n",
       "2   62.0               8.13         64.0        0.1  631.744976  31731688.0   \n",
       "3   67.0               8.52         67.0        0.1  669.959000   3696958.0   \n",
       "4   68.0               7.87         68.0        0.1   63.537231   2978599.0   \n",
       "\n",
       "    thinness  1-19 years   thinness 5-9 years  \\\n",
       "0                   17.2                 17.3   \n",
       "1                   17.5                 17.5   \n",
       "2                   17.7                 17.7   \n",
       "3                   17.9                 18.0   \n",
       "4                   18.2                 18.2   \n",
       "\n",
       "   Income composition of resources  Schooling  \n",
       "0                            0.479       10.1  \n",
       "1                            0.476       10.0  \n",
       "2                            0.470        9.9  \n",
       "3                            0.463        9.8  \n",
       "4                            0.454        9.5  \n",
       "\n",
       "[5 rows x 22 columns]"
      ]
     },
     "execution_count": 5,
     "metadata": {},
     "output_type": "execute_result"
    }
   ],
   "source": [
    "df.head()"
   ]
  },
  {
   "cell_type": "code",
   "execution_count": 6,
   "id": "142b3f42",
   "metadata": {},
   "outputs": [
    {
     "data": {
      "text/plain": [
       "Index(['Country', 'Year', 'Status', 'Life expectancy ', 'Adult Mortality',\n",
       "       'infant deaths', 'Alcohol', 'percentage expenditure', 'Hepatitis B',\n",
       "       'Measles ', ' BMI ', 'under-five deaths ', 'Polio', 'Total expenditure',\n",
       "       'Diphtheria ', ' HIV/AIDS', 'GDP', 'Population',\n",
       "       ' thinness  1-19 years', ' thinness 5-9 years',\n",
       "       'Income composition of resources', 'Schooling'],\n",
       "      dtype='object')"
      ]
     },
     "execution_count": 6,
     "metadata": {},
     "output_type": "execute_result"
    }
   ],
   "source": [
    "df.columns"
   ]
  },
  {
   "cell_type": "code",
   "execution_count": 7,
   "id": "94a5ed75",
   "metadata": {},
   "outputs": [
    {
     "name": "stdout",
     "output_type": "stream",
     "text": [
      "<class 'pandas.core.frame.DataFrame'>\n",
      "RangeIndex: 2938 entries, 0 to 2937\n",
      "Data columns (total 22 columns):\n",
      " #   Column                           Non-Null Count  Dtype  \n",
      "---  ------                           --------------  -----  \n",
      " 0   Country                          2938 non-null   object \n",
      " 1   Year                             2938 non-null   int64  \n",
      " 2   Status                           2938 non-null   object \n",
      " 3   Life expectancy                  2928 non-null   float64\n",
      " 4   Adult Mortality                  2928 non-null   float64\n",
      " 5   infant deaths                    2938 non-null   int64  \n",
      " 6   Alcohol                          2744 non-null   float64\n",
      " 7   percentage expenditure           2938 non-null   float64\n",
      " 8   Hepatitis B                      2385 non-null   float64\n",
      " 9   Measles                          2938 non-null   int64  \n",
      " 10   BMI                             2904 non-null   float64\n",
      " 11  under-five deaths                2938 non-null   int64  \n",
      " 12  Polio                            2919 non-null   float64\n",
      " 13  Total expenditure                2712 non-null   float64\n",
      " 14  Diphtheria                       2919 non-null   float64\n",
      " 15   HIV/AIDS                        2938 non-null   float64\n",
      " 16  GDP                              2490 non-null   float64\n",
      " 17  Population                       2286 non-null   float64\n",
      " 18   thinness  1-19 years            2904 non-null   float64\n",
      " 19   thinness 5-9 years              2904 non-null   float64\n",
      " 20  Income composition of resources  2771 non-null   float64\n",
      " 21  Schooling                        2775 non-null   float64\n",
      "dtypes: float64(16), int64(4), object(2)\n",
      "memory usage: 505.1+ KB\n"
     ]
    }
   ],
   "source": [
    "df.info()"
   ]
  },
  {
   "cell_type": "code",
   "execution_count": 8,
   "id": "f3c5a257",
   "metadata": {},
   "outputs": [
    {
     "data": {
      "text/plain": [
       "Country                              0\n",
       "Year                                 0\n",
       "Status                               0\n",
       "Life expectancy                     10\n",
       "Adult Mortality                     10\n",
       "infant deaths                        0\n",
       "Alcohol                            194\n",
       "percentage expenditure               0\n",
       "Hepatitis B                        553\n",
       "Measles                              0\n",
       " BMI                                34\n",
       "under-five deaths                    0\n",
       "Polio                               19\n",
       "Total expenditure                  226\n",
       "Diphtheria                          19\n",
       " HIV/AIDS                            0\n",
       "GDP                                448\n",
       "Population                         652\n",
       " thinness  1-19 years               34\n",
       " thinness 5-9 years                 34\n",
       "Income composition of resources    167\n",
       "Schooling                          163\n",
       "dtype: int64"
      ]
     },
     "execution_count": 8,
     "metadata": {},
     "output_type": "execute_result"
    }
   ],
   "source": [
    "df.isnull().sum()"
   ]
  },
  {
   "cell_type": "code",
   "execution_count": 9,
   "id": "f8219aec",
   "metadata": {},
   "outputs": [],
   "source": [
    "y= df[\"Life expectancy \"]\n",
    "X=  df.drop([\"Life expectancy \"], axis=1)"
   ]
  },
  {
   "cell_type": "code",
   "execution_count": 10,
   "id": "bbfd85e6",
   "metadata": {},
   "outputs": [],
   "source": [
    "y.fillna(y.median(), inplace=True)"
   ]
  },
  {
   "cell_type": "code",
   "execution_count": 11,
   "id": "5c51c4e0",
   "metadata": {},
   "outputs": [],
   "source": [
    "X.Year = pd.to_datetime(X.Year).dt.year"
   ]
  },
  {
   "cell_type": "markdown",
   "id": "6dedaa17",
   "metadata": {},
   "source": [
    "## Coding categorical data"
   ]
  },
  {
   "cell_type": "code",
   "execution_count": 12,
   "id": "236f74c2",
   "metadata": {},
   "outputs": [],
   "source": [
    "import sklearn\n",
    "import category_encoders as ce\n",
    "bin_enc = ce.BinaryEncoder(drop_invariant=True)\n",
    "X = bin_enc.fit_transform(X) "
   ]
  },
  {
   "cell_type": "code",
   "execution_count": 13,
   "id": "43d02fa0",
   "metadata": {},
   "outputs": [
    {
     "data": {
      "text/html": [
       "<div>\n",
       "<style scoped>\n",
       "    .dataframe tbody tr th:only-of-type {\n",
       "        vertical-align: middle;\n",
       "    }\n",
       "\n",
       "    .dataframe tbody tr th {\n",
       "        vertical-align: top;\n",
       "    }\n",
       "\n",
       "    .dataframe thead th {\n",
       "        text-align: right;\n",
       "    }\n",
       "</style>\n",
       "<table border=\"1\" class=\"dataframe\">\n",
       "  <thead>\n",
       "    <tr style=\"text-align: right;\">\n",
       "      <th></th>\n",
       "      <th>Country_0</th>\n",
       "      <th>Country_1</th>\n",
       "      <th>Country_2</th>\n",
       "      <th>Country_3</th>\n",
       "      <th>Country_4</th>\n",
       "      <th>Country_5</th>\n",
       "      <th>Country_6</th>\n",
       "      <th>Country_7</th>\n",
       "      <th>Year</th>\n",
       "      <th>Status_0</th>\n",
       "      <th>...</th>\n",
       "      <th>Polio</th>\n",
       "      <th>Total expenditure</th>\n",
       "      <th>Diphtheria</th>\n",
       "      <th>HIV/AIDS</th>\n",
       "      <th>GDP</th>\n",
       "      <th>Population</th>\n",
       "      <th>thinness  1-19 years</th>\n",
       "      <th>thinness 5-9 years</th>\n",
       "      <th>Income composition of resources</th>\n",
       "      <th>Schooling</th>\n",
       "    </tr>\n",
       "  </thead>\n",
       "  <tbody>\n",
       "    <tr>\n",
       "      <th>0</th>\n",
       "      <td>0</td>\n",
       "      <td>0</td>\n",
       "      <td>0</td>\n",
       "      <td>0</td>\n",
       "      <td>0</td>\n",
       "      <td>0</td>\n",
       "      <td>0</td>\n",
       "      <td>1</td>\n",
       "      <td>1970</td>\n",
       "      <td>0</td>\n",
       "      <td>...</td>\n",
       "      <td>6.0</td>\n",
       "      <td>8.16</td>\n",
       "      <td>65.0</td>\n",
       "      <td>0.1</td>\n",
       "      <td>584.259210</td>\n",
       "      <td>33736494.0</td>\n",
       "      <td>17.2</td>\n",
       "      <td>17.3</td>\n",
       "      <td>0.479</td>\n",
       "      <td>10.1</td>\n",
       "    </tr>\n",
       "    <tr>\n",
       "      <th>1</th>\n",
       "      <td>0</td>\n",
       "      <td>0</td>\n",
       "      <td>0</td>\n",
       "      <td>0</td>\n",
       "      <td>0</td>\n",
       "      <td>0</td>\n",
       "      <td>0</td>\n",
       "      <td>1</td>\n",
       "      <td>1970</td>\n",
       "      <td>0</td>\n",
       "      <td>...</td>\n",
       "      <td>58.0</td>\n",
       "      <td>8.18</td>\n",
       "      <td>62.0</td>\n",
       "      <td>0.1</td>\n",
       "      <td>612.696514</td>\n",
       "      <td>327582.0</td>\n",
       "      <td>17.5</td>\n",
       "      <td>17.5</td>\n",
       "      <td>0.476</td>\n",
       "      <td>10.0</td>\n",
       "    </tr>\n",
       "    <tr>\n",
       "      <th>2</th>\n",
       "      <td>0</td>\n",
       "      <td>0</td>\n",
       "      <td>0</td>\n",
       "      <td>0</td>\n",
       "      <td>0</td>\n",
       "      <td>0</td>\n",
       "      <td>0</td>\n",
       "      <td>1</td>\n",
       "      <td>1970</td>\n",
       "      <td>0</td>\n",
       "      <td>...</td>\n",
       "      <td>62.0</td>\n",
       "      <td>8.13</td>\n",
       "      <td>64.0</td>\n",
       "      <td>0.1</td>\n",
       "      <td>631.744976</td>\n",
       "      <td>31731688.0</td>\n",
       "      <td>17.7</td>\n",
       "      <td>17.7</td>\n",
       "      <td>0.470</td>\n",
       "      <td>9.9</td>\n",
       "    </tr>\n",
       "    <tr>\n",
       "      <th>3</th>\n",
       "      <td>0</td>\n",
       "      <td>0</td>\n",
       "      <td>0</td>\n",
       "      <td>0</td>\n",
       "      <td>0</td>\n",
       "      <td>0</td>\n",
       "      <td>0</td>\n",
       "      <td>1</td>\n",
       "      <td>1970</td>\n",
       "      <td>0</td>\n",
       "      <td>...</td>\n",
       "      <td>67.0</td>\n",
       "      <td>8.52</td>\n",
       "      <td>67.0</td>\n",
       "      <td>0.1</td>\n",
       "      <td>669.959000</td>\n",
       "      <td>3696958.0</td>\n",
       "      <td>17.9</td>\n",
       "      <td>18.0</td>\n",
       "      <td>0.463</td>\n",
       "      <td>9.8</td>\n",
       "    </tr>\n",
       "    <tr>\n",
       "      <th>4</th>\n",
       "      <td>0</td>\n",
       "      <td>0</td>\n",
       "      <td>0</td>\n",
       "      <td>0</td>\n",
       "      <td>0</td>\n",
       "      <td>0</td>\n",
       "      <td>0</td>\n",
       "      <td>1</td>\n",
       "      <td>1970</td>\n",
       "      <td>0</td>\n",
       "      <td>...</td>\n",
       "      <td>68.0</td>\n",
       "      <td>7.87</td>\n",
       "      <td>68.0</td>\n",
       "      <td>0.1</td>\n",
       "      <td>63.537231</td>\n",
       "      <td>2978599.0</td>\n",
       "      <td>18.2</td>\n",
       "      <td>18.2</td>\n",
       "      <td>0.454</td>\n",
       "      <td>9.5</td>\n",
       "    </tr>\n",
       "  </tbody>\n",
       "</table>\n",
       "<p>5 rows × 29 columns</p>\n",
       "</div>"
      ],
      "text/plain": [
       "   Country_0  Country_1  Country_2  Country_3  Country_4  Country_5  \\\n",
       "0          0          0          0          0          0          0   \n",
       "1          0          0          0          0          0          0   \n",
       "2          0          0          0          0          0          0   \n",
       "3          0          0          0          0          0          0   \n",
       "4          0          0          0          0          0          0   \n",
       "\n",
       "   Country_6  Country_7  Year  Status_0  ...  Polio  Total expenditure  \\\n",
       "0          0          1  1970         0  ...    6.0               8.16   \n",
       "1          0          1  1970         0  ...   58.0               8.18   \n",
       "2          0          1  1970         0  ...   62.0               8.13   \n",
       "3          0          1  1970         0  ...   67.0               8.52   \n",
       "4          0          1  1970         0  ...   68.0               7.87   \n",
       "\n",
       "   Diphtheria    HIV/AIDS         GDP  Population   thinness  1-19 years  \\\n",
       "0         65.0        0.1  584.259210  33736494.0                   17.2   \n",
       "1         62.0        0.1  612.696514    327582.0                   17.5   \n",
       "2         64.0        0.1  631.744976  31731688.0                   17.7   \n",
       "3         67.0        0.1  669.959000   3696958.0                   17.9   \n",
       "4         68.0        0.1   63.537231   2978599.0                   18.2   \n",
       "\n",
       "    thinness 5-9 years  Income composition of resources  Schooling  \n",
       "0                 17.3                            0.479       10.1  \n",
       "1                 17.5                            0.476       10.0  \n",
       "2                 17.7                            0.470        9.9  \n",
       "3                 18.0                            0.463        9.8  \n",
       "4                 18.2                            0.454        9.5  \n",
       "\n",
       "[5 rows x 29 columns]"
      ]
     },
     "execution_count": 13,
     "metadata": {},
     "output_type": "execute_result"
    }
   ],
   "source": [
    "X.head()"
   ]
  },
  {
   "cell_type": "code",
   "execution_count": 14,
   "id": "e698a100",
   "metadata": {},
   "outputs": [],
   "source": [
    "X.fillna(X.mean(), inplace=True)"
   ]
  },
  {
   "cell_type": "markdown",
   "id": "4a592a0b",
   "metadata": {},
   "source": [
    "## Split"
   ]
  },
  {
   "cell_type": "code",
   "execution_count": 15,
   "id": "72e31016",
   "metadata": {},
   "outputs": [],
   "source": [
    "from sklearn.model_selection import train_test_split\n",
    "X_train, X_test, y_train, y_test= train_test_split(X, y, test_size= 0.30, random_state=9)"
   ]
  },
  {
   "cell_type": "markdown",
   "id": "5474c852",
   "metadata": {},
   "source": [
    "## Linear regression"
   ]
  },
  {
   "cell_type": "code",
   "execution_count": 16,
   "id": "b0c9477e",
   "metadata": {},
   "outputs": [
    {
     "name": "stdout",
     "output_type": "stream",
     "text": [
      "coefficient of determination: 0.8246578016681347\n",
      "intercept: 55.06661652520731\n",
      "slope: [ 5.39868078e-01  3.00562333e-01  7.53268236e-01 -1.75790685e-01\n",
      " -4.00059136e-01 -1.16217061e-01  2.54676690e-01  1.92664428e-02\n",
      "  1.58206781e-15  8.82491412e-01 -8.82491412e-01 -1.96947113e-02\n",
      "  1.00510203e-01  9.71513717e-02 -3.83416146e-05 -1.61047720e-02\n",
      " -2.10888131e-05  4.48954665e-02 -7.46079555e-02  2.41455560e-02\n",
      "  1.77176532e-02  4.56656976e-02 -4.47773693e-01  4.23917554e-05\n",
      " -5.49815561e-11 -6.89028877e-02 -3.17531192e-03  4.96058442e+00\n",
      "  7.22793633e-01]\n"
     ]
    }
   ],
   "source": [
    "from sklearn.linear_model import LinearRegression\n",
    "lr = LinearRegression()\n",
    "lr.fit(X_train, y_train)\n",
    "sc = lr.score(X_train, y_train)\n",
    "print('coefficient of determination:', sc)\n",
    "print('intercept:', lr.intercept_)\n",
    "print('slope:', lr.coef_)"
   ]
  },
  {
   "cell_type": "code",
   "execution_count": 17,
   "id": "1840fdaf",
   "metadata": {},
   "outputs": [],
   "source": [
    "y_lr = lr.predict(X_test)"
   ]
  },
  {
   "cell_type": "markdown",
   "id": "db51d2bc",
   "metadata": {},
   "source": [
    "## SVM"
   ]
  },
  {
   "cell_type": "code",
   "execution_count": 18,
   "id": "f8dd760a",
   "metadata": {},
   "outputs": [
    {
     "data": {
      "text/plain": [
       "SVR()"
      ]
     },
     "execution_count": 18,
     "metadata": {},
     "output_type": "execute_result"
    }
   ],
   "source": [
    "from sklearn import svm\n",
    "s = svm.SVR()\n",
    "s.fit(X_train, y_train)\n"
   ]
  },
  {
   "cell_type": "code",
   "execution_count": 19,
   "id": "337c9d08",
   "metadata": {},
   "outputs": [],
   "source": [
    "y_svr = s.predict(X_test)"
   ]
  },
  {
   "cell_type": "markdown",
   "id": "7a190abe",
   "metadata": {},
   "source": [
    "## Decision tree"
   ]
  },
  {
   "cell_type": "code",
   "execution_count": 20,
   "id": "28be1d15",
   "metadata": {},
   "outputs": [
    {
     "data": {
      "text/plain": [
       "DecisionTreeRegressor(random_state=0)"
      ]
     },
     "execution_count": 20,
     "metadata": {},
     "output_type": "execute_result"
    }
   ],
   "source": [
    "from sklearn.tree import DecisionTreeRegressor\n",
    "dt = DecisionTreeRegressor(random_state=0)\n",
    "dt.fit(X_train, y_train)"
   ]
  },
  {
   "cell_type": "code",
   "execution_count": 21,
   "id": "0070a9d3",
   "metadata": {},
   "outputs": [],
   "source": [
    "y_dt = dt.predict(X_test)"
   ]
  },
  {
   "cell_type": "markdown",
   "id": "3075f3c6",
   "metadata": {},
   "source": [
    "## Evaluation of the quality"
   ]
  },
  {
   "cell_type": "code",
   "execution_count": 22,
   "id": "1228d01e",
   "metadata": {},
   "outputs": [
    {
     "name": "stdout",
     "output_type": "stream",
     "text": [
      "Linear regression:  17.062129156285682\n",
      "SVM:  100.89982155896014\n",
      "Decision tree:  7.4750000000000005\n"
     ]
    }
   ],
   "source": [
    "# mean squared error\n",
    "from sklearn.metrics import mean_squared_error\n",
    "print(\"Linear regression: \",mean_squared_error(y_test, y_lr))\n",
    "print(\"SVM: \",mean_squared_error(y_test, y_svr))\n",
    "print(\"Decision tree: \",mean_squared_error(y_test, y_dt))\n"
   ]
  },
  {
   "cell_type": "code",
   "execution_count": 23,
   "id": "0c68a67f",
   "metadata": {},
   "outputs": [
    {
     "name": "stdout",
     "output_type": "stream",
     "text": [
      "Linear regression:  3.0889831815712046\n",
      "SVM:  7.579025871219417\n",
      "Decision tree:  1.6577097505668936\n"
     ]
    }
   ],
   "source": [
    "# mean absolute error\n",
    "from sklearn.metrics import mean_absolute_error\n",
    "print(\"Linear regression: \",mean_absolute_error(y_test, y_lr))\n",
    "print(\"SVM: \",mean_absolute_error(y_test, y_svr))\n",
    "print(\"Decision tree: \",mean_absolute_error(y_test, y_dt))"
   ]
  },
  {
   "cell_type": "markdown",
   "id": "75810488",
   "metadata": {},
   "source": [
    "## The importance of features"
   ]
  },
  {
   "cell_type": "code",
   "execution_count": 22,
   "id": "e6acb553",
   "metadata": {},
   "outputs": [
    {
     "data": {
      "text/plain": [
       "[('Country_0', 0.003586939599600534),\n",
       " ('Country_1', 0.00043528641487956213),\n",
       " ('Country_2', 0.0012445965189790977),\n",
       " ('Country_3', 0.0002955266491424785),\n",
       " ('Country_4', 0.0007594598269913248),\n",
       " ('Country_5', 0.0004473477471656755),\n",
       " ('Country_6', 5.904270988838898e-05),\n",
       " ('Country_7', 0.0004912794219232724),\n",
       " ('Year', 0.0),\n",
       " ('Status_0', 2.2158014778123868e-05),\n",
       " ('Status_1', 0.00015274333443504666),\n",
       " ('Adult Mortality', 0.13575760786841157),\n",
       " ('infant deaths', 0.002369175986155562),\n",
       " ('Alcohol', 0.008467301710122648),\n",
       " ('percentage expenditure', 0.006271696143048364),\n",
       " ('Hepatitis B', 0.0019369721723790198),\n",
       " ('Measles ', 0.0015214550273649533),\n",
       " (' BMI ', 0.006154391731776707),\n",
       " ('under-five deaths ', 0.029396373097045313),\n",
       " ('Polio', 0.003143098419361568),\n",
       " ('Total expenditure', 0.004901823552178708),\n",
       " ('Diphtheria ', 0.003381902051066721),\n",
       " (' HIV/AIDS', 0.5912459304592244),\n",
       " ('GDP', 0.0020723185008717114),\n",
       " ('Population', 0.002860086568717561),\n",
       " (' thinness  1-19 years', 0.006544627632363877),\n",
       " (' thinness 5-9 years', 0.0024582661817284606),\n",
       " ('Income composition of resources', 0.16736158716070615),\n",
       " ('Schooling', 0.016661005499693057)]"
      ]
     },
     "execution_count": 22,
     "metadata": {},
     "output_type": "execute_result"
    }
   ],
   "source": [
    "list(zip(X_train.columns.values, dt.feature_importances_))"
   ]
  },
  {
   "cell_type": "code",
   "execution_count": 23,
   "id": "d1bafc76",
   "metadata": {},
   "outputs": [
    {
     "data": {
      "text/plain": [
       "1.0"
      ]
     },
     "execution_count": 23,
     "metadata": {},
     "output_type": "execute_result"
    }
   ],
   "source": [
    "sum(dt.feature_importances_)"
   ]
  },
  {
   "cell_type": "code",
   "execution_count": 24,
   "id": "0cced552",
   "metadata": {},
   "outputs": [],
   "source": [
    "from operator import itemgetter\n",
    "\n",
    "def draw_feature_importances(tree_model, X_dataset, figsize=(18,5)):\n",
    "    # Sorting the values of the importance of features in descending order\n",
    "    list_to_sort = list(zip(X_dataset.columns.values, tree_model.feature_importances_))\n",
    "    sorted_list = sorted(list_to_sort, key=itemgetter(1), reverse = True)\n",
    "    # Features names\n",
    "    labels = [x for x,_ in sorted_list]\n",
    "    # Features importance\n",
    "    data = [x for _,x in sorted_list]\n",
    "    # Graph output\n",
    "    fig, ax = plt.subplots(figsize=figsize)\n",
    "    ind = np.arange(len(labels))\n",
    "    plt.bar(ind, data)\n",
    "    plt.xticks(ind, labels, rotation='vertical')\n",
    "    # Values output\n",
    "    for a,b in zip(ind, data):\n",
    "        plt.text(a-0.05, b+0.01, str(round(b,3)))\n",
    "    plt.show()\n",
    "    return labels, data"
   ]
  },
  {
   "cell_type": "code",
   "execution_count": 25,
   "id": "a4ffe301",
   "metadata": {
    "scrolled": true
   },
   "outputs": [
    {
     "data": {
      "image/png": "[encoded data removed]",
      "text/plain": [
       "<Figure size 1800x500 with 1 Axes>"
      ]
     },
     "metadata": {},
     "output_type": "display_data"
    }
   ],
   "source": [
    "dt_fl, dt_fd = draw_feature_importances(dt, X_train)"
   ]
  },
  {
   "cell_type": "markdown",
   "id": "b6e0345c",
   "metadata": {},
   "source": [
    "## Defining hyperparameters for a tree"
   ]
  },
  {
   "cell_type": "code",
   "execution_count": null,
   "id": "2e283192",
   "metadata": {},
   "outputs": [],
   "source": [
    "from sklearn.model_selection import GridSearchCV\n",
    "params = {\n",
    "    'max_depth': [3, 4, 5, 6],\n",
    "    'min_samples_leaf': [0.04, 0.06, 0.08],\n",
    "    'max_features': [0.2, 0.4, 0.6, 0.8]\n",
    "}\n",
    "grid = GridSearchCV(estimator=DecisionTreeRegressor(random_state=1),\n",
    "                    param_grid=params, scoring='neg_mean_squared_error', cv=3, n_jobs=-1)\n",
    "grid.fit(X_train, y_train)"
   ]
  },
  {
   "cell_type": "code",
   "execution_count": 27,
   "id": "9219fafc",
   "metadata": {},
   "outputs": [
    {
     "data": {
      "text/plain": [
       "(12.980019491379105,\n",
       " {'max_depth': 6, 'max_features': 0.8, 'min_samples_leaf': 0.04})"
      ]
     },
     "execution_count": 27,
     "metadata": {},
     "output_type": "execute_result"
    }
   ],
   "source": [
    "-grid.best_score_, grid.best_params_"
   ]
  },
  {
   "cell_type": "code",
   "execution_count": 28,
   "id": "5185880d",
   "metadata": {},
   "outputs": [
    {
     "data": {
      "text/plain": [
       "DecisionTreeRegressor(max_depth=6, random_state=0)"
      ]
     },
     "execution_count": 28,
     "metadata": {},
     "output_type": "execute_result"
    }
   ],
   "source": [
    "dt_opt = DecisionTreeRegressor(random_state=0, max_depth=6)\n",
    "dt_opt.fit(X_train, y_train)\n"
   ]
  },
  {
   "cell_type": "code",
   "execution_count": 33,
   "id": "6d522f4a",
   "metadata": {
    "scrolled": true
   },
   "outputs": [
    {
     "data": {
      "text/html": [
       "<pre>|---  HIV/AIDS <= 0.65\n",
       "|   |--- Income composition of resources <= 0.80\n",
       "|   |   |--- Adult Mortality <= 198.50\n",
       "|   |   |   |--- Income composition of resources <= 0.62\n",
       "|   |   |   |   |--- Alcohol <= 1.60\n",
       "|   |   |   |   |   |---  BMI  <= 37.00\n",
       "|   |   |   |   |   |   |--- value: [66.11]\n",
       "|   |   |   |   |   |---  BMI  >  37.00\n",
       "|   |   |   |   |   |   |--- value: [69.78]\n",
       "|   |   |   |   |--- Alcohol >  1.60\n",
       "|   |   |   |   |   |--- under-five deaths  <= 14.50\n",
       "|   |   |   |   |   |   |--- value: [72.55]\n",
       "|   |   |   |   |   |--- under-five deaths  >  14.50\n",
       "|   |   |   |   |   |   |--- value: [69.20]\n",
       "|   |   |   |--- Income composition of resources >  0.62\n",
       "|   |   |   |   |--- Adult Mortality <= 150.00\n",
       "|   |   |   |   |   |--- Income composition of resources <= 0.63\n",
       "|   |   |   |   |   |   |--- value: [78.09]\n",
       "|   |   |   |   |   |--- Income composition of resources >  0.63\n",
       "|   |   |   |   |   |   |--- value: [74.34]\n",
       "|   |   |   |   |--- Adult Mortality >  150.00\n",
       "|   |   |   |   |   |--- Alcohol <= 3.53\n",
       "|   |   |   |   |   |   |--- value: [70.49]\n",
       "|   |   |   |   |   |--- Alcohol >  3.53\n",
       "|   |   |   |   |   |   |--- value: [72.61]\n",
       "|   |   |--- Adult Mortality >  198.50\n",
       "|   |   |   |--- Income composition of resources <= 0.54\n",
       "|   |   |   |   |--- Adult Mortality <= 267.50\n",
       "|   |   |   |   |   |--- percentage expenditure <= 232.28\n",
       "|   |   |   |   |   |   |--- value: [63.50]\n",
       "|   |   |   |   |   |--- percentage expenditure >  232.28\n",
       "|   |   |   |   |   |   |--- value: [67.12]\n",
       "|   |   |   |   |--- Adult Mortality >  267.50\n",
       "|   |   |   |   |   |--- infant deaths <= 76.50\n",
       "|   |   |   |   |   |   |--- value: [59.65]\n",
       "|   |   |   |   |   |--- infant deaths >  76.50\n",
       "|   |   |   |   |   |   |--- value: [56.43]\n",
       "|   |   |   |--- Income composition of resources >  0.54\n",
       "|   |   |   |   |--- Schooling <= 14.95\n",
       "|   |   |   |   |   |--- Adult Mortality <= 262.50\n",
       "|   |   |   |   |   |   |--- value: [67.50]\n",
       "|   |   |   |   |   |--- Adult Mortality >  262.50\n",
       "|   |   |   |   |   |   |--- value: [64.86]\n",
       "|   |   |   |   |--- Schooling >  14.95\n",
       "|   |   |   |   |   |--- Polio <= 94.50\n",
       "|   |   |   |   |   |   |--- value: [78.00]\n",
       "|   |   |   |   |   |--- Polio >  94.50\n",
       "|   |   |   |   |   |   |--- value: [71.30]\n",
       "|   |--- Income composition of resources >  0.80\n",
       "|   |   |--- Income composition of resources <= 0.84\n",
       "|   |   |   |---  thinness  1-19 years <= 0.95\n",
       "|   |   |   |   |--- Total expenditure <= 9.43\n",
       "|   |   |   |   |   |--- Population <= 17308169.00\n",
       "|   |   |   |   |   |   |--- value: [79.35]\n",
       "|   |   |   |   |   |--- Population >  17308169.00\n",
       "|   |   |   |   |   |   |--- value: [81.50]\n",
       "|   |   |   |   |--- Total expenditure >  9.43\n",
       "|   |   |   |   |   |--- Polio <= 98.50\n",
       "|   |   |   |   |   |   |--- value: [87.33]\n",
       "|   |   |   |   |   |--- Polio >  98.50\n",
       "|   |   |   |   |   |   |--- value: [81.05]\n",
       "|   |   |   |---  thinness  1-19 years >  0.95\n",
       "|   |   |   |   |---  BMI  <= 4.30\n",
       "|   |   |   |   |   |--- Schooling <= 13.25\n",
       "|   |   |   |   |   |   |--- value: [82.00]\n",
       "|   |   |   |   |   |--- Schooling >  13.25\n",
       "|   |   |   |   |   |   |--- value: [87.00]\n",
       "|   |   |   |   |---  BMI  >  4.30\n",
       "|   |   |   |   |   |--- Adult Mortality <= 129.50\n",
       "|   |   |   |   |   |   |--- value: [76.37]\n",
       "|   |   |   |   |   |--- Adult Mortality >  129.50\n",
       "|   |   |   |   |   |   |--- value: [74.24]\n",
       "|   |   |--- Income composition of resources >  0.84\n",
       "|   |   |   |--- Adult Mortality <= 78.50\n",
       "|   |   |   |   |--- Adult Mortality <= 33.00\n",
       "|   |   |   |   |   |--- Income composition of resources <= 0.88\n",
       "|   |   |   |   |   |   |--- value: [78.94]\n",
       "|   |   |   |   |   |--- Income composition of resources >  0.88\n",
       "|   |   |   |   |   |   |--- value: [81.95]\n",
       "|   |   |   |   |--- Adult Mortality >  33.00\n",
       "|   |   |   |   |   |--- Total expenditure <= 1.64\n",
       "|   |   |   |   |   |   |--- value: [84.61]\n",
       "|   |   |   |   |   |--- Total expenditure >  1.64\n",
       "|   |   |   |   |   |   |--- value: [82.27]\n",
       "|   |   |   |--- Adult Mortality >  78.50\n",
       "|   |   |   |   |--- Country_5 <= 0.50\n",
       "|   |   |   |   |   |---  BMI  <= 63.10\n",
       "|   |   |   |   |   |   |--- value: [78.39]\n",
       "|   |   |   |   |   |---  BMI  >  63.10\n",
       "|   |   |   |   |   |   |--- value: [85.00]\n",
       "|   |   |   |   |--- Country_5 >  0.50\n",
       "|   |   |   |   |   |--- percentage expenditure <= 6871.23\n",
       "|   |   |   |   |   |   |--- value: [80.24]\n",
       "|   |   |   |   |   |--- percentage expenditure >  6871.23\n",
       "|   |   |   |   |   |   |--- value: [89.00]\n",
       "|---  HIV/AIDS >  0.65\n",
       "|   |--- Adult Mortality <= 333.00\n",
       "|   |   |--- under-five deaths  <= 24.50\n",
       "|   |   |   |--- Schooling <= 10.25\n",
       "|   |   |   |   |---  HIV/AIDS <= 2.80\n",
       "|   |   |   |   |   |--- Income composition of resources <= 0.54\n",
       "|   |   |   |   |   |   |--- value: [62.15]\n",
       "|   |   |   |   |   |--- Income composition of resources >  0.54\n",
       "|   |   |   |   |   |   |--- value: [71.45]\n",
       "|   |   |   |   |---  HIV/AIDS >  2.80\n",
       "|   |   |   |   |   |---  HIV/AIDS <= 28.80\n",
       "|   |   |   |   |   |   |--- value: [57.57]\n",
       "|   |   |   |   |   |---  HIV/AIDS >  28.80\n",
       "|   |   |   |   |   |   |--- value: [45.75]\n",
       "|   |   |   |--- Schooling >  10.25\n",
       "|   |   |   |   |---  HIV/AIDS <= 2.55\n",
       "|   |   |   |   |   |--- Adult Mortality <= 205.00\n",
       "|   |   |   |   |   |   |--- value: [71.72]\n",
       "|   |   |   |   |   |--- Adult Mortality >  205.00\n",
       "|   |   |   |   |   |   |--- value: [65.62]\n",
       "|   |   |   |   |---  HIV/AIDS >  2.55\n",
       "|   |   |   |   |   |--- Income composition of resources <= 0.53\n",
       "|   |   |   |   |   |   |--- value: [56.10]\n",
       "|   |   |   |   |   |--- Income composition of resources >  0.53\n",
       "|   |   |   |   |   |   |--- value: [62.98]\n",
       "|   |   |--- under-five deaths  >  24.50\n",
       "|   |   |   |---  HIV/AIDS <= 4.70\n",
       "|   |   |   |   |--- Income composition of resources <= 0.39\n",
       "|   |   |   |   |   |--- Country_0 <= 0.50\n",
       "|   |   |   |   |   |   |--- value: [55.18]\n",
       "|   |   |   |   |   |--- Country_0 >  0.50\n",
       "|   |   |   |   |   |   |--- value: [44.57]\n",
       "|   |   |   |   |--- Income composition of resources >  0.39\n",
       "|   |   |   |   |   |--- Population <= 23135387.00\n",
       "|   |   |   |   |   |   |--- value: [58.81]\n",
       "|   |   |   |   |   |--- Population >  23135387.00\n",
       "|   |   |   |   |   |   |--- value: [63.45]\n",
       "|   |   |   |---  HIV/AIDS >  4.70\n",
       "|   |   |   |   |--- percentage expenditure <= 72.62\n",
       "|   |   |   |   |   |---  HIV/AIDS <= 12.65\n",
       "|   |   |   |   |   |   |--- value: [50.83]\n",
       "|   |   |   |   |   |---  HIV/AIDS >  12.65\n",
       "|   |   |   |   |   |   |--- value: [46.08]\n",
       "|   |   |   |   |--- percentage expenditure >  72.62\n",
       "|   |   |   |   |   |--- Country_4 <= 0.50\n",
       "|   |   |   |   |   |   |--- value: [55.80]\n",
       "|   |   |   |   |   |--- Country_4 >  0.50\n",
       "|   |   |   |   |   |   |--- value: [58.47]\n",
       "|   |--- Adult Mortality >  333.00\n",
       "|   |   |--- Adult Mortality <= 504.50\n",
       "|   |   |   |--- Adult Mortality <= 379.50\n",
       "|   |   |   |   |--- Diphtheria  <= 71.50\n",
       "|   |   |   |   |   |--- under-five deaths  <= 77.50\n",
       "|   |   |   |   |   |   |--- value: [55.00]\n",
       "|   |   |   |   |   |--- under-five deaths  >  77.50\n",
       "|   |   |   |   |   |   |--- value: [52.71]\n",
       "|   |   |   |   |--- Diphtheria  >  71.50\n",
       "|   |   |   |   |   |--- percentage expenditure <= 401.58\n",
       "|   |   |   |   |   |   |--- value: [56.95]\n",
       "|   |   |   |   |   |--- percentage expenditure >  401.58\n",
       "|   |   |   |   |   |   |--- value: [64.03]\n",
       "|   |   |   |--- Adult Mortality >  379.50\n",
       "|   |   |   |   |--- percentage expenditure <= 68.17\n",
       "|   |   |   |   |   |---  HIV/AIDS <= 2.70\n",
       "|   |   |   |   |   |   |--- value: [48.17]\n",
       "|   |   |   |   |   |---  HIV/AIDS >  2.70\n",
       "|   |   |   |   |   |   |--- value: [52.13]\n",
       "|   |   |   |   |--- percentage expenditure >  68.17\n",
       "|   |   |   |   |   |--- Adult Mortality <= 454.00\n",
       "|   |   |   |   |   |   |--- value: [56.55]\n",
       "|   |   |   |   |   |--- Adult Mortality >  454.00\n",
       "|   |   |   |   |   |   |--- value: [54.19]\n",
       "|   |   |--- Adult Mortality >  504.50\n",
       "|   |   |   |---  HIV/AIDS <= 5.45\n",
       "|   |   |   |   |---  thinness 5-9 years <= 1.15\n",
       "|   |   |   |   |   |---  HIV/AIDS <= 1.80\n",
       "|   |   |   |   |   |   |--- value: [48.00]\n",
       "|   |   |   |   |   |---  HIV/AIDS >  1.80\n",
       "|   |   |   |   |   |   |--- value: [45.30]\n",
       "|   |   |   |   |---  thinness 5-9 years >  1.15\n",
       "|   |   |   |   |   |--- infant deaths <= 26.00\n",
       "|   |   |   |   |   |   |--- value: [36.30]\n",
       "|   |   |   |   |   |--- infant deaths >  26.00\n",
       "|   |   |   |   |   |   |--- value: [40.00]\n",
       "|   |   |   |---  HIV/AIDS >  5.45\n",
       "|   |   |   |   |--- GDP <= 19.65\n",
       "|   |   |   |   |   |--- value: [58.00]\n",
       "|   |   |   |   |--- GDP >  19.65\n",
       "|   |   |   |   |   |--- Adult Mortality <= 600.00\n",
       "|   |   |   |   |   |   |--- value: [48.51]\n",
       "|   |   |   |   |   |--- Adult Mortality >  600.00\n",
       "|   |   |   |   |   |   |--- value: [45.68]\n",
       "</pre>"
      ],
      "text/plain": [
       "<IPython.core.display.HTML object>"
      ]
     },
     "execution_count": 33,
     "metadata": {},
     "output_type": "execute_result"
    }
   ],
   "source": [
    "from IPython.core.display import HTML\n",
    "from sklearn.tree import export_text\n",
    "tree_rules = export_text(dt_opt, feature_names=list(X.columns))\n",
    "HTML('<pre>' + tree_rules + '</pre>')"
   ]
  },
  {
   "cell_type": "code",
   "execution_count": 35,
   "id": "4d9b2559",
   "metadata": {},
   "outputs": [],
   "source": [
    "from sklearn import tree"
   ]
  },
  {
   "cell_type": "code",
   "execution_count": 37,
   "id": "212d704a",
   "metadata": {
    "scrolled": true
   },
   "outputs": [
    {
     "data": {
      "text/plain": [
       "[Text(0.514616935483871, 0.9285714285714286, 'X[22] <= 0.65\\nsquared_error = 89.76\\nsamples = 2056\\nvalue = 69.288'),\n",
       " Text(0.25806451612903225, 0.7857142857142857, 'X[27] <= 0.802\\nsquared_error = 34.271\\nsamples = 1527\\nvalue = 73.5'),\n",
       " Text(0.12903225806451613, 0.6428571428571429, 'X[11] <= 198.5\\nsquared_error = 23.592\\nsamples = 1144\\nvalue = 71.365'),\n",
       " Text(0.06451612903225806, 0.5, 'X[27] <= 0.623\\nsquared_error = 13.919\\nsamples = 933\\nvalue = 72.854'),\n",
       " Text(0.03225806451612903, 0.35714285714285715, 'X[13] <= 1.595\\nsquared_error = 14.833\\nsamples = 218\\nvalue = 69.158'),\n",
       " Text(0.016129032258064516, 0.21428571428571427, 'X[17] <= 37.0\\nsquared_error = 9.862\\nsamples = 127\\nvalue = 67.494'),\n",
       " Text(0.008064516129032258, 0.07142857142857142, 'squared_error = 5.847\\nsamples = 79\\nvalue = 66.108'),\n",
       " Text(0.024193548387096774, 0.07142857142857142, 'squared_error = 8.094\\nsamples = 48\\nvalue = 69.777'),\n",
       " Text(0.04838709677419355, 0.21428571428571427, 'X[18] <= 14.5\\nsquared_error = 12.515\\nsamples = 91\\nvalue = 71.48'),\n",
       " Text(0.04032258064516129, 0.07142857142857142, 'squared_error = 6.994\\nsamples = 62\\nvalue = 72.547'),\n",
       " Text(0.056451612903225805, 0.07142857142857142, 'squared_error = 16.688\\nsamples = 29\\nvalue = 69.2'),\n",
       " Text(0.0967741935483871, 0.35714285714285715, 'X[11] <= 150.0\\nsquared_error = 8.206\\nsamples = 715\\nvalue = 73.981'),\n",
       " Text(0.08064516129032258, 0.21428571428571427, 'X[27] <= 0.628\\nsquared_error = 6.924\\nsamples = 513\\nvalue = 74.761'),\n",
       " Text(0.07258064516129033, 0.07142857142857142, 'squared_error = 10.418\\nsamples = 58\\nvalue = 78.093'),\n",
       " Text(0.08870967741935484, 0.07142857142857142, 'squared_error = 4.883\\nsamples = 455\\nvalue = 74.336'),\n",
       " Text(0.11290322580645161, 0.21428571428571427, 'X[13] <= 3.53\\nsquared_error = 5.997\\nsamples = 202\\nvalue = 72.001'),\n",
       " Text(0.10483870967741936, 0.07142857142857142, 'squared_error = 7.282\\nsamples = 58\\nvalue = 70.493'),\n",
       " Text(0.12096774193548387, 0.07142857142857142, 'squared_error = 4.194\\nsamples = 144\\nvalue = 72.609'),\n",
       " Text(0.1935483870967742, 0.5, 'X[27] <= 0.544\\nsquared_error = 13.218\\nsamples = 211\\nvalue = 64.782'),\n",
       " Text(0.16129032258064516, 0.35714285714285715, 'X[11] <= 267.5\\nsquared_error = 7.733\\nsamples = 107\\nvalue = 62.306'),\n",
       " Text(0.14516129032258066, 0.21428571428571427, 'X[14] <= 232.281\\nsquared_error = 3.106\\nsamples = 75\\nvalue = 63.697'),\n",
       " Text(0.13709677419354838, 0.07142857142857142, 'squared_error = 2.56\\nsamples = 71\\nvalue = 63.504'),\n",
       " Text(0.1532258064516129, 0.07142857142857142, 'squared_error = 0.387\\nsamples = 4\\nvalue = 67.125'),\n",
       " Text(0.1774193548387097, 0.21428571428571427, 'X[12] <= 76.5\\nsquared_error = 3.397\\nsamples = 32\\nvalue = 59.044'),\n",
       " Text(0.1693548387096774, 0.07142857142857142, 'squared_error = 2.006\\nsamples = 26\\nvalue = 59.646'),\n",
       " Text(0.18548387096774194, 0.07142857142857142, 'squared_error = 1.039\\nsamples = 6\\nvalue = 56.433'),\n",
       " Text(0.22580645161290322, 0.35714285714285715, 'X[28] <= 14.95\\nsquared_error = 6.06\\nsamples = 104\\nvalue = 67.33'),\n",
       " Text(0.20967741935483872, 0.21428571428571427, 'X[11] <= 262.5\\nsquared_error = 3.45\\nsamples = 99\\nvalue = 66.994'),\n",
       " Text(0.20161290322580644, 0.07142857142857142, 'squared_error = 2.532\\nsamples = 80\\nvalue = 67.501'),\n",
       " Text(0.21774193548387097, 0.07142857142857142, 'squared_error = 1.671\\nsamples = 19\\nvalue = 64.858'),\n",
       " Text(0.24193548387096775, 0.21428571428571427, 'X[19] <= 94.5\\nsquared_error = 11.282\\nsamples = 5\\nvalue = 73.98'),\n",
       " Text(0.23387096774193547, 0.07142857142857142, 'squared_error = 0.0\\nsamples = 2\\nvalue = 78.0'),\n",
       " Text(0.25, 0.07142857142857142, 'squared_error = 0.847\\nsamples = 3\\nvalue = 71.3'),\n",
       " Text(0.3870967741935484, 0.6428571428571429, 'X[27] <= 0.843\\nsquared_error = 11.928\\nsamples = 383\\nvalue = 79.874'),\n",
       " Text(0.3225806451612903, 0.5, 'X[25] <= 0.95\\nsquared_error = 8.322\\nsamples = 131\\nvalue = 77.052'),\n",
       " Text(0.2903225806451613, 0.35714285714285715, 'X[20] <= 9.43\\nsquared_error = 6.067\\nsamples = 31\\nvalue = 80.513'),\n",
       " Text(0.27419354838709675, 0.21428571428571427, 'X[24] <= 17308169.0\\nsquared_error = 0.978\\nsamples = 26\\nvalue = 79.685'),\n",
       " Text(0.2661290322580645, 0.07142857142857142, 'squared_error = 0.312\\nsamples = 22\\nvalue = 79.355'),\n",
       " Text(0.28225806451612906, 0.07142857142857142, 'squared_error = 0.75\\nsamples = 4\\nvalue = 81.5'),\n",
       " Text(0.3064516129032258, 0.21428571428571427, 'X[19] <= 98.5\\nsquared_error = 10.41\\nsamples = 5\\nvalue = 84.82'),\n",
       " Text(0.29838709677419356, 0.07142857142857142, 'squared_error = 1.556\\nsamples = 3\\nvalue = 87.333'),\n",
       " Text(0.31451612903225806, 0.07142857142857142, 'squared_error = 0.002\\nsamples = 2\\nvalue = 81.05'),\n",
       " Text(0.3548387096774194, 0.35714285714285715, 'X[17] <= 4.3\\nsquared_error = 4.157\\nsamples = 100\\nvalue = 75.979'),\n",
       " Text(0.3387096774193548, 0.21428571428571427, 'X[28] <= 13.25\\nsquared_error = 6.25\\nsamples = 2\\nvalue = 84.5'),\n",
       " Text(0.33064516129032256, 0.07142857142857142, 'squared_error = 0.0\\nsamples = 1\\nvalue = 82.0'),\n",
       " Text(0.3467741935483871, 0.07142857142857142, 'squared_error = 0.0\\nsamples = 1\\nvalue = 87.0'),\n",
       " Text(0.3709677419354839, 0.21428571428571427, 'X[11] <= 129.5\\nsquared_error = 2.602\\nsamples = 98\\nvalue = 75.805'),\n",
       " Text(0.3629032258064516, 0.07142857142857142, 'squared_error = 1.704\\nsamples = 72\\nvalue = 76.371'),\n",
       " Text(0.3790322580645161, 0.07142857142857142, 'squared_error = 1.75\\nsamples = 26\\nvalue = 74.238'),\n",
       " Text(0.45161290322580644, 0.5, 'X[11] <= 78.5\\nsquared_error = 7.51\\nsamples = 252\\nvalue = 81.341'),\n",
       " Text(0.41935483870967744, 0.35714285714285715, 'X[11] <= 33.0\\nsquared_error = 6.509\\nsamples = 194\\nvalue = 81.983'),\n",
       " Text(0.4032258064516129, 0.21428571428571427, 'X[27] <= 0.883\\nsquared_error = 4.205\\nsamples = 37\\nvalue = 80.0'),\n",
       " Text(0.3951612903225806, 0.07142857142857142, 'squared_error = 2.423\\nsamples = 24\\nvalue = 78.942'),\n",
       " Text(0.4112903225806452, 0.07142857142857142, 'squared_error = 1.609\\nsamples = 13\\nvalue = 81.954'),\n",
       " Text(0.43548387096774194, 0.21428571428571427, 'X[20] <= 1.64\\nsquared_error = 5.907\\nsamples = 157\\nvalue = 82.45'),\n",
       " Text(0.4274193548387097, 0.07142857142857142, 'squared_error = 4.962\\nsamples = 12\\nvalue = 84.608'),\n",
       " Text(0.4435483870967742, 0.07142857142857142, 'squared_error = 5.567\\nsamples = 145\\nvalue = 82.272'),\n",
       " Text(0.4838709677419355, 0.35714285714285715, 'X[5] <= 0.5\\nsquared_error = 4.874\\nsamples = 58\\nvalue = 79.195'),\n",
       " Text(0.46774193548387094, 0.21428571428571427, 'X[17] <= 63.1\\nsquared_error = 2.515\\nsamples = 41\\nvalue = 78.549'),\n",
       " Text(0.4596774193548387, 0.07142857142857142, 'squared_error = 1.512\\nsamples = 40\\nvalue = 78.388'),\n",
       " Text(0.47580645161290325, 0.07142857142857142, 'squared_error = 0.0\\nsamples = 1\\nvalue = 85.0'),\n",
       " Text(0.5, 0.21428571428571427, 'X[14] <= 6871.232\\nsquared_error = 7.13\\nsamples = 17\\nvalue = 80.753'),\n",
       " Text(0.49193548387096775, 0.07142857142857142, 'squared_error = 3.059\\nsamples = 16\\nvalue = 80.238'),\n",
       " Text(0.5080645161290323, 0.07142857142857142, 'squared_error = -0.0\\nsamples = 1\\nvalue = 89.0'),\n",
       " Text(0.7711693548387096, 0.7857142857142857, 'X[11] <= 333.0\\nsquared_error = 50.949\\nsamples = 529\\nvalue = 57.131'),\n",
       " Text(0.6451612903225806, 0.6428571428571429, 'X[18] <= 24.5\\nsquared_error = 47.204\\nsamples = 320\\nvalue = 60.175'),\n",
       " Text(0.5806451612903226, 0.5, 'X[28] <= 10.25\\nsquared_error = 34.322\\nsamples = 175\\nvalue = 63.726'),\n",
       " Text(0.5483870967741935, 0.35714285714285715, 'X[22] <= 2.8\\nsquared_error = 19.729\\nsamples = 89\\nvalue = 60.393'),\n",
       " Text(0.532258064516129, 0.21428571428571427, 'X[27] <= 0.539\\nsquared_error = 8.34\\nsamples = 56\\nvalue = 62.479'),\n",
       " Text(0.5241935483870968, 0.07142857142857142, 'squared_error = 5.557\\nsamples = 54\\nvalue = 62.146'),\n",
       " Text(0.5403225806451613, 0.07142857142857142, 'squared_error = 0.023\\nsamples = 2\\nvalue = 71.45'),\n",
       " Text(0.5645161290322581, 0.21428571428571427, 'X[22] <= 28.8\\nsquared_error = 19.153\\nsamples = 33\\nvalue = 56.855'),\n",
       " Text(0.5564516129032258, 0.07142857142857142, 'squared_error = 11.919\\nsamples = 31\\nvalue = 57.571'),\n",
       " Text(0.5725806451612904, 0.07142857142857142, 'squared_error = 0.022\\nsamples = 2\\nvalue = 45.75'),\n",
       " Text(0.6129032258064516, 0.35714285714285715, 'X[22] <= 2.55\\nsquared_error = 26.03\\nsamples = 86\\nvalue = 67.176'),\n",
       " Text(0.5967741935483871, 0.21428571428571427, 'X[11] <= 205.0\\nsquared_error = 17.094\\nsamples = 59\\nvalue = 69.446'),\n",
       " Text(0.5887096774193549, 0.07142857142857142, 'squared_error = 9.977\\nsamples = 37\\nvalue = 71.719'),\n",
       " Text(0.6048387096774194, 0.07142857142857142, 'squared_error = 5.759\\nsamples = 22\\nvalue = 65.623'),\n",
       " Text(0.6290322580645161, 0.21428571428571427, 'X[27] <= 0.532\\nsquared_error = 9.685\\nsamples = 27\\nvalue = 62.215'),\n",
       " Text(0.6209677419354839, 0.07142857142857142, 'squared_error = 6.26\\nsamples = 3\\nvalue = 56.1'),\n",
       " Text(0.6370967741935484, 0.07142857142857142, 'squared_error = 4.855\\nsamples = 24\\nvalue = 62.979'),\n",
       " Text(0.7096774193548387, 0.5, 'X[22] <= 4.7\\nsquared_error = 29.154\\nsamples = 145\\nvalue = 55.888'),\n",
       " Text(0.6774193548387096, 0.35714285714285715, 'X[27] <= 0.39\\nsquared_error = 20.192\\nsamples = 110\\nvalue = 57.587'),\n",
       " Text(0.6612903225806451, 0.21428571428571427, 'X[0] <= 0.5\\nsquared_error = 16.903\\nsamples = 41\\nvalue = 54.405'),\n",
       " Text(0.6532258064516129, 0.07142857142857142, 'squared_error = 9.209\\nsamples = 38\\nvalue = 55.182'),\n",
       " Text(0.6693548387096774, 0.07142857142857142, 'squared_error = 9.929\\nsamples = 3\\nvalue = 44.567'),\n",
       " Text(0.6935483870967742, 0.21428571428571427, 'X[24] <= 23135387.0\\nsquared_error = 12.553\\nsamples = 69\\nvalue = 59.478'),\n",
       " Text(0.6854838709677419, 0.07142857142857142, 'squared_error = 10.747\\nsamples = 59\\nvalue = 58.805'),\n",
       " Text(0.7016129032258065, 0.07142857142857142, 'squared_error = 4.759\\nsamples = 10\\nvalue = 63.45'),\n",
       " Text(0.7419354838709677, 0.35714285714285715, 'X[14] <= 72.617\\nsquared_error = 19.736\\nsamples = 35\\nvalue = 50.549'),\n",
       " Text(0.7258064516129032, 0.21428571428571427, 'X[22] <= 12.65\\nsquared_error = 13.553\\nsamples = 30\\nvalue = 49.407'),\n",
       " Text(0.717741935483871, 0.07142857142857142, 'squared_error = 11.739\\nsamples = 21\\nvalue = 50.833'),\n",
       " Text(0.7338709677419355, 0.07142857142857142, 'squared_error = 1.953\\nsamples = 9\\nvalue = 46.078'),\n",
       " Text(0.7580645161290323, 0.21428571428571427, 'X[4] <= 0.5\\nsquared_error = 2.068\\nsamples = 5\\nvalue = 57.4'),\n",
       " Text(0.75, 0.07142857142857142, 'squared_error = 0.25\\nsamples = 2\\nvalue = 55.8'),\n",
       " Text(0.7661290322580645, 0.07142857142857142, 'squared_error = 0.436\\nsamples = 3\\nvalue = 58.467'),\n",
       " Text(0.8971774193548387, 0.6428571428571429, 'X[11] <= 504.5\\nsquared_error = 20.791\\nsamples = 209\\nvalue = 52.472'),\n",
       " Text(0.8387096774193549, 0.5, 'X[11] <= 379.5\\nsquared_error = 13.342\\nsamples = 169\\nvalue = 53.816'),\n",
       " Text(0.8064516129032258, 0.35714285714285715, 'X[21] <= 71.5\\nsquared_error = 11.94\\nsamples = 82\\nvalue = 55.315'),\n",
       " Text(0.7903225806451613, 0.21428571428571427, 'X[18] <= 77.5\\nsquared_error = 4.961\\nsamples = 48\\nvalue = 53.712'),\n",
       " Text(0.782258064516129, 0.07142857142857142, 'squared_error = 2.797\\nsamples = 21\\nvalue = 55.005'),\n",
       " Text(0.7983870967741935, 0.07142857142857142, 'squared_error = 4.336\\nsamples = 27\\nvalue = 52.707'),\n",
       " Text(0.8225806451612904, 0.21428571428571427, 'X[14] <= 401.581\\nsquared_error = 13.052\\nsamples = 34\\nvalue = 57.576'),\n",
       " Text(0.8145161290322581, 0.07142857142857142, 'squared_error = 8.683\\nsamples = 31\\nvalue = 56.952'),\n",
       " Text(0.8306451612903226, 0.07142857142857142, 'squared_error = 12.469\\nsamples = 3\\nvalue = 64.033'),\n",
       " Text(0.8709677419354839, 0.35714285714285715, 'X[14] <= 68.173\\nsquared_error = 10.552\\nsamples = 87\\nvalue = 52.403'),\n",
       " Text(0.8548387096774194, 0.21428571428571427, 'X[22] <= 2.7\\nsquared_error = 9.106\\nsamples = 67\\nvalue = 51.482'),\n",
       " Text(0.8467741935483871, 0.07142857142857142, 'squared_error = 6.571\\nsamples = 11\\nvalue = 48.173'),\n",
       " Text(0.8629032258064516, 0.07142857142857142, 'squared_error = 7.03\\nsamples = 56\\nvalue = 52.132'),\n",
       " Text(0.8870967741935484, 0.21428571428571427, 'X[11] <= 454.0\\nsquared_error = 3.026\\nsamples = 20\\nvalue = 55.49'),\n",
       " Text(0.8790322580645161, 0.07142857142857142, 'squared_error = 1.935\\nsamples = 11\\nvalue = 56.555'),\n",
       " Text(0.8951612903225806, 0.07142857142857142, 'squared_error = 1.281\\nsamples = 9\\nvalue = 54.189'),\n",
       " Text(0.9556451612903226, 0.5, 'X[22] <= 5.45\\nsquared_error = 12.375\\nsamples = 40\\nvalue = 46.793'),\n",
       " Text(0.9354838709677419, 0.35714285714285715, 'X[26] <= 1.15\\nsquared_error = 17.87\\nsamples = 5\\nvalue = 41.92'),\n",
       " Text(0.9193548387096774, 0.21428571428571427, 'X[22] <= 1.8\\nsquared_error = 1.823\\nsamples = 2\\nvalue = 46.65'),\n",
       " Text(0.9112903225806451, 0.07142857142857142, 'squared_error = 0.0\\nsamples = 1\\nvalue = 48.0'),\n",
       " Text(0.9274193548387096, 0.07142857142857142, 'squared_error = 0.0\\nsamples = 1\\nvalue = 45.3'),\n",
       " Text(0.9516129032258065, 0.21428571428571427, 'X[12] <= 26.0\\nsquared_error = 3.709\\nsamples = 3\\nvalue = 38.767'),\n",
       " Text(0.9435483870967742, 0.07142857142857142, 'squared_error = 0.0\\nsamples = 1\\nvalue = 36.3'),\n",
       " Text(0.9596774193548387, 0.07142857142857142, 'squared_error = 1.0\\nsamples = 2\\nvalue = 40.0'),\n",
       " Text(0.9758064516129032, 0.35714285714285715, 'X[23] <= 19.653\\nsquared_error = 7.714\\nsamples = 35\\nvalue = 47.489'),\n",
       " Text(0.967741935483871, 0.21428571428571427, 'squared_error = 0.0\\nsamples = 1\\nvalue = 58.0'),\n",
       " Text(0.9838709677419355, 0.21428571428571427, 'X[11] <= 600.0\\nsquared_error = 4.595\\nsamples = 34\\nvalue = 47.179'),\n",
       " Text(0.9758064516129032, 0.07142857142857142, 'squared_error = 3.727\\nsamples = 18\\nvalue = 48.511'),\n",
       " Text(0.9919354838709677, 0.07142857142857142, 'squared_error = 1.333\\nsamples = 16\\nvalue = 45.681')]"
      ]
     },
     "execution_count": 37,
     "metadata": {},
     "output_type": "execute_result"
    },
    {
     "data": {
      "image/png": "[encoded data removed]",
      "text/plain": [
       "<Figure size 640x480 with 1 Axes>"
      ]
     },
     "metadata": {},
     "output_type": "display_data"
    }
   ],
   "source": [
    "tree.plot_tree(dt_opt) "
   ]
  },
  {
   "cell_type": "code",
   "execution_count": 45,
   "id": "81eb0dd9",
   "metadata": {},
   "outputs": [
    {
     "data": {
      "text/plain": [
       "[Text(0.5, 0.875, 'X[22] <= 0.65\\nsquared_error = 89.76\\nsamples = 2056\\nvalue = 69.288'),\n",
       " Text(0.25, 0.625, 'X[27] <= 0.802\\nsquared_error = 34.271\\nsamples = 1527\\nvalue = 73.5'),\n",
       " Text(0.125, 0.375, 'X[11] <= 198.5\\nsquared_error = 23.592\\nsamples = 1144\\nvalue = 71.365'),\n",
       " Text(0.0625, 0.125, 'squared_error = 13.919\\nsamples = 933\\nvalue = 72.854'),\n",
       " Text(0.1875, 0.125, 'squared_error = 13.218\\nsamples = 211\\nvalue = 64.782'),\n",
       " Text(0.375, 0.375, 'X[27] <= 0.843\\nsquared_error = 11.928\\nsamples = 383\\nvalue = 79.874'),\n",
       " Text(0.3125, 0.125, 'squared_error = 8.322\\nsamples = 131\\nvalue = 77.052'),\n",
       " Text(0.4375, 0.125, 'squared_error = 7.51\\nsamples = 252\\nvalue = 81.341'),\n",
       " Text(0.75, 0.625, 'X[11] <= 333.0\\nsquared_error = 50.949\\nsamples = 529\\nvalue = 57.131'),\n",
       " Text(0.625, 0.375, 'X[18] <= 24.5\\nsquared_error = 47.204\\nsamples = 320\\nvalue = 60.175'),\n",
       " Text(0.5625, 0.125, 'squared_error = 34.322\\nsamples = 175\\nvalue = 63.726'),\n",
       " Text(0.6875, 0.125, 'squared_error = 29.154\\nsamples = 145\\nvalue = 55.888'),\n",
       " Text(0.875, 0.375, 'X[11] <= 504.5\\nsquared_error = 20.791\\nsamples = 209\\nvalue = 52.472'),\n",
       " Text(0.8125, 0.125, 'squared_error = 13.342\\nsamples = 169\\nvalue = 53.816'),\n",
       " Text(0.9375, 0.125, 'squared_error = 12.375\\nsamples = 40\\nvalue = 46.792')]"
      ]
     },
     "execution_count": 45,
     "metadata": {},
     "output_type": "execute_result"
    },
    {
     "data": {
      "image/png": "[encoded data removed]",
      "text/plain": [
       "<Figure size 640x480 with 1 Axes>"
      ]
     },
     "metadata": {},
     "output_type": "display_data"
    }
   ],
   "source": [
    "dt_new = DecisionTreeRegressor(random_state=0, max_depth=3)\n",
    "dt_new.fit(X_train, y_train)\n",
    "tree.plot_tree(dt_new) "
   ]
  }
 ],
 "metadata": {
  "kernelspec": {
   "display_name": "Python 3 (ipykernel)",
   "language": "python",
   "name": "python3"
  },
  "language_info": {
   "codemirror_mode": {
    "name": "ipython",
    "version": 3
   },
   "file_extension": ".py",
   "mimetype": "text/x-python",
   "name": "python",
   "nbconvert_exporter": "python",
   "pygments_lexer": "ipython3",
   "version": "3.9.13"
  }
 },
 "nbformat": 4,
 "nbformat_minor": 5
}
